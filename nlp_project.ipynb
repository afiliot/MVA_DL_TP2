{
 "cells": [
  {
   "cell_type": "markdown",
   "metadata": {},
   "source": [
    "# Deep Learning for NLP - Project"
   ]
  },
  {
   "cell_type": "markdown",
   "metadata": {},
   "source": [
    "RULES:\n",
    "\n",
    "* Do not create any additional cell\n",
    "\n",
    "* Fill in the blanks\n",
    "\n",
    "* All cells should be runnable (modulo trivial compatibility bugs that we'd fix)\n",
    "\n",
    "* 4 / 20 points will be allocated to the clarity of your code\n",
    "\n",
    "* Efficient code will have a bonus\n",
    "\n",
    "DELIVERABLE:\n",
    "\n",
    "* this notebook\n",
    "* the predictions of the SST test set\n",
    "\n",
    "DO NOT INCLUDE THE DATASETS IN THE DELIVERABLE.."
   ]
  },
  {
   "cell_type": "code",
   "execution_count": 1,
   "metadata": {
    "ExecuteTime": {
     "end_time": "2019-01-11T00:20:08.639459Z",
     "start_time": "2019-01-11T00:20:07.228118Z"
    }
   },
   "outputs": [],
   "source": [
    "import io\n",
    "import os\n",
    "import numpy as np\n",
    "import scipy.linalg\n",
    "import pickle as pkl\n",
    "import pandas as pd\n",
    "import itertools\n",
    "from tqdm import tqdm_notebook as tqdm\n",
    "import matplotlib.pyplot as plt\n",
    "plt.style.use('ggplot')"
   ]
  },
  {
   "cell_type": "code",
   "execution_count": 2,
   "metadata": {
    "ExecuteTime": {
     "end_time": "2019-01-11T00:20:08.645726Z",
     "start_time": "2019-01-11T00:20:08.642215Z"
    }
   },
   "outputs": [],
   "source": [
    "PATH_TO_DATA = \"/Users/bfiliot/MVA/DL/TP2/data/\""
   ]
  },
  {
   "cell_type": "markdown",
   "metadata": {},
   "source": [
    "# 1) Monolingual (English) word embeddings "
   ]
  },
  {
   "cell_type": "code",
   "execution_count": 3,
   "metadata": {
    "ExecuteTime": {
     "end_time": "2019-01-11T00:20:10.711977Z",
     "start_time": "2019-01-11T00:20:10.694804Z"
    }
   },
   "outputs": [],
   "source": [
    "class Word2vec():\n",
    "    def __init__(self, fname, nmax=100000):\n",
    "        self.nmax = nmax\n",
    "        self.load_wordvec(fname, nmax)\n",
    "        self.word2id = {k:i for k,i in zip(self.word2vec.keys(), range(nmax))}\n",
    "        self.id2word = {v: k for k, v in self.word2id.items()}\n",
    "        self.embeddings = np.array(self.word2vec.values())\n",
    "    \n",
    "    def load_wordvec(self, fname, nmax):\n",
    "        self.word2vec = {}\n",
    "        with io.open(fname, encoding='utf-8') as f:\n",
    "            next(f)\n",
    "            for i, line in tqdm(enumerate(f), total=nmax):\n",
    "                word, vec = line.split(' ', 1)\n",
    "                self.word2vec[word] = np.fromstring(vec, sep=' ')\n",
    "                if i == (nmax - 1):\n",
    "                    break\n",
    "        print('Loaded %s pretrained word vectors' % (len(self.word2vec)))\n",
    "\n",
    "    def most_similar(self, w, K=5):\n",
    "        print(\"\\nNearest neighbors of \\\"%s\\\":\" % w)\n",
    "        # handle cases where w is not in the dictionary\n",
    "        if self.word2vec.get(w) is None:\n",
    "            print('Word [{}] cannot be found'.format(w))\n",
    "        else:\n",
    "            words = np.array(list(self.word2id.keys()))\n",
    "            scores = [self.score(w, w2) for w2 in words]\n",
    "            # select (K+1) most similar words (1rst is the word itself)\n",
    "            id = np.argsort(scores)[-K-1::][-2::-1]\n",
    "            for i in id:\n",
    "                print('%.4f - %s' % (scores[i], words[i]))\n",
    "\n",
    "    def score(self, w1, w2):\n",
    "        emb1, emb2 = self.word2vec.get(w1), self.word2vec.get(w2)\n",
    "        # handle cases where w1 or w2 is not in the dictionary\n",
    "        if emb1 is None:\n",
    "            print('Word [{}] cannot be found'.format(w1))\n",
    "        elif emb2 is None:\n",
    "            print('Word [{}] cannot be found'.format(w2))\n",
    "        else:\n",
    "            return np.dot(emb1, emb2) / np.linalg.norm(emb1, 2) / np.linalg.norm(emb2, 2)"
   ]
  },
  {
   "cell_type": "code",
   "execution_count": 5,
   "metadata": {
    "ExecuteTime": {
     "end_time": "2019-01-08T14:12:13.706613Z",
     "start_time": "2019-01-08T14:11:29.150742Z"
    }
   },
   "outputs": [
    {
     "name": "stdout",
     "output_type": "stream",
     "text": [
      "Loaded 200000 pretrained word vectors\n",
      "\n",
      "Testing score...\n",
      "\n",
      "cat dog  : 0.6717 \n",
      "dog pet  : 0.6842 \n",
      "dogs cats  : 0.7074 \n",
      "paris france  : 0.7775 \n",
      "germany berlin  : 0.7420 \n",
      "\n",
      "Testing similarity...\n",
      "\n",
      "\n",
      "Nearest neighbors of \"cat\":\n",
      "0.8353 - cats\n",
      "0.8034 - kitty\n",
      "0.8025 - kitten\n",
      "0.7681 - feline\n",
      "0.7237 - kitties\n",
      "\n",
      "Nearest neighbors of \"dog\":\n",
      "0.8552 - dogs\n",
      "0.7846 - puppy\n",
      "0.7512 - Dog\n",
      "0.7442 - doggie\n",
      "0.7421 - canine\n",
      "\n",
      "Nearest neighbors of \"dogs\":\n",
      "0.8552 - dog\n",
      "0.7713 - pooches\n",
      "0.7704 - Dogs\n",
      "0.7699 - doggies\n",
      "0.7527 - canines\n",
      "\n",
      "Nearest neighbors of \"paris\":\n",
      "0.7775 - france\n",
      "0.6845 - Paris\n",
      "0.6787 - parisian\n",
      "0.6729 - london\n",
      "0.6424 - berlin\n",
      "\n",
      "Nearest neighbors of \"germany\":\n",
      "0.7688 - austria\n",
      "0.7598 - europe\n",
      "0.7446 - german\n",
      "0.7420 - berlin\n",
      "0.7237 - poland\n"
     ]
    }
   ],
   "source": [
    "w2v = Word2vec(os.path.join(PATH_TO_DATA, 'crawl-300d-200k.vec'), nmax=200000)\n",
    "\n",
    "'''You will be evaluated on the output of the following:'''\n",
    "\n",
    "print('\\nTesting score...\\n')\n",
    "for w1, w2 in zip(('cat', 'dog', 'dogs', 'paris', 'germany'),\n",
    "                  ('dog', 'pet', 'cats', 'france', 'berlin')):\n",
    "    print(w1, w2, ' : %.4f ' % w2v.score(w1, w2))\n",
    "print('\\nTesting similarity...\\n')\n",
    "for w1 in ['cat', 'dog', 'dogs', 'paris', 'germany']:\n",
    "    w2v.most_similar(w1)"
   ]
  },
  {
   "cell_type": "code",
   "execution_count": 4,
   "metadata": {
    "ExecuteTime": {
     "end_time": "2019-01-11T00:20:14.475944Z",
     "start_time": "2019-01-11T00:20:14.454715Z"
    }
   },
   "outputs": [],
   "source": [
    "class BoV():\n",
    "    def __init__(self, w2v):\n",
    "        self.w2v = w2v\n",
    "    \n",
    "    def encode(self, sentences, idf=False):\n",
    "        '''takes a list of sentences, outputs a numpy array of sentence embeddings\n",
    "        see TP1 for help'''\n",
    "        sentemb = []\n",
    "        for sent in sentences:\n",
    "            words = [w for w in sent.split(' ') if w in w2v.word2vec.keys()]\n",
    "            # control if words is empty. The latter means that none of the words\n",
    "            # from the sentence can be found in the dictionary for specified nmax.\n",
    "            # This sentence is not taken into account to construct the embeddings.\n",
    "            if not words:\n",
    "                print(\"None of the words in the sentence \\n'\"+sent+\"'\\ncan be found\")\n",
    "                continue\n",
    "            if idf is False:\n",
    "                emb = np.mean([w2v.word2vec.get(w) for w in words], axis=0)\n",
    "            else:\n",
    "                emb = np.mean([w2v.word2vec.get(w)*idf.get(w) for w in words], axis=0)\n",
    "            sentemb.append(emb)\n",
    "        return np.vstack(sentemb)\n",
    "\n",
    "    def most_similar(self, s, sentences, idf=False, K=5):\n",
    "        '''get most similar sentences and **print** them'''\n",
    "        keys = self.encode(sentences, idf)\n",
    "        query = self.encode([s], idf)\n",
    "        scores = [self.score(query[0], k) for k in keys]\n",
    "        # select (K+1) most similar sentences (1rst is the sentence itself)\n",
    "        id = np.argsort(scores)[-K-1::][-2::-1]\n",
    "        for i in id:\n",
    "            print('%.4f - %s' % (scores[i], sentences[i]))\n",
    "\n",
    "    def score(self, s1, s2, idf=False):\n",
    "        '''cosine similarity: use   np.dot  and  np.linalg.norm\n",
    "        score can take either raw sentences (string) or encoded ones (embeddings).\n",
    "        In the first case s1/s2 are strings and we must distinguish strings \n",
    "        from other formats using isinstance.'''\n",
    "        emb1 = self.encode([s1], idf)[0] if isinstance(s1, str) else s1\n",
    "        emb2 = self.encode([s2], idf)[0] if isinstance(s2, str) else s2\n",
    "        score = np.dot(emb1, emb2) / np.linalg.norm(emb1) / np.linalg.norm(emb2)\n",
    "        return score\n",
    "    \n",
    "    def build_idf(self, sentences):\n",
    "        '''build the idf dictionary: associate each word to its idf value'''\n",
    "        idf = {}\n",
    "        for sent in sentences:\n",
    "            for w in sent.split(' '):\n",
    "                idf[w] = idf.get(w, 0) + 1\n",
    "        idf = {w: max(1, np.log10(len(sentences) / (idf[w]))) for w in idf.keys()}\n",
    "        return idf"
   ]
  },
  {
   "cell_type": "code",
   "execution_count": 7,
   "metadata": {
    "ExecuteTime": {
     "end_time": "2019-01-08T14:13:18.880848Z",
     "start_time": "2019-01-08T14:12:21.544174Z"
    }
   },
   "outputs": [
    {
     "name": "stdout",
     "output_type": "stream",
     "text": [
      "Loaded 200000 pretrained word vectors\n",
      "Nearest neighbors (Bov-Mean) of \"1 smiling african american boy .\":\n",
      "0.9170 - an african american man smiling .\n",
      "0.8499 - a little african american boy and girl looking up .\n",
      "0.8217 - an afican american woman standing behind two small african american children .\n",
      "0.8207 - an african american man is sitting .\n",
      "0.8191 - a girl in black hat holding an african american baby .\n",
      "\n",
      "Testing score (BoV-mean) with sentences...\n",
      "\"1 man singing and 1 man playing a saxophone in a concert .\"\n",
      "and\n",
      "\"10 people venture out to go crosscountry skiing .\"\n",
      "➜ Score : 0.5726\n",
      "\n",
      "Nearest neighbors (BoV-Idf-Mean) of \"1 smiling african american boy .\":\n",
      "0.9222 - an african american man smiling .\n",
      "0.8718 - an african american man is sitting .\n",
      "0.8654 - a little african american boy and girl looking up .\n",
      "0.8552 - an afican american woman standing behind two small african american children .\n",
      "0.8467 - a girl in black hat holding an african american baby .\n",
      "\n",
      "Testing score (BoV-Idf-Mean) with sentences...\n",
      "\"1 man singing and 1 man playing a saxophone in a concert .\"\n",
      "and\n",
      "\"10 people venture out to go crosscountry skiing .\"\n",
      "➜ Score : 0.4751\n"
     ]
    }
   ],
   "source": [
    "w2v = Word2vec(os.path.join(PATH_TO_DATA, 'crawl-300d-200k.vec'), nmax=200000)\n",
    "s2v = BoV(w2v)\n",
    "\n",
    "'''Load sentences in \"PATH_TO_DATA/sentences.txt\"'''\n",
    "def load_sentences(fname):\n",
    "    sentences = []\n",
    "    with io.open(fname, encoding='utf-8') as f:\n",
    "        for _, line in enumerate(f):\n",
    "            sentences.append(line.rstrip())\n",
    "    return sentences\n",
    "sentences = load_sentences(os.path.join(PATH_TO_DATA, 'sentences.txt'))\n",
    "\n",
    "'''Build idf scores for each word'''\n",
    "idf = s2v.build_idf(sentences)\n",
    "\n",
    "'''You will be evaluated on the output of the following:'''\n",
    "\n",
    "# BoV-MEAN\n",
    "sent = sentences[10] \n",
    "print(\"Nearest neighbors (Bov-Mean) of \\\"%s\\\":\" % sent)\n",
    "s2v.most_similar('' if not sentences else sent, sentences)  # BoV-mean\n",
    "sent1, sent2 = sentences[7], sentences[13] \n",
    "print(\"\\nTesting score (BoV-mean) with sentences...\\n\\\"%s\\\"\\nand\\n\\\"%s\\\"\" % (sent1, sent2))\n",
    "print('➜ Score : %.4f' % (s2v.score('' if not sentences else sent1, '' if not sentences else sent2)))\n",
    "\n",
    "# BoV-Idf-mean\n",
    "sent = sentences[10] \n",
    "print(\"\\nNearest neighbors (BoV-Idf-Mean) of \\\"%s\\\":\" % sent)\n",
    "s2v.most_similar('' if not sentences else sent, sentences, idf)  # Bov-Idf-mean\n",
    "sent1, sent2 = sentences[7], sentences[13] \n",
    "print(\"\\nTesting score (BoV-Idf-Mean) with sentences...\\n\\\"%s\\\"\\nand\\n\\\"%s\\\"\" % (sent1, sent2))\n",
    "print('➜ Score : %.4f' % (s2v.score('' if not sentences else sent1, '' if not sentences else sent2, idf)))"
   ]
  },
  {
   "cell_type": "markdown",
   "metadata": {},
   "source": [
    "# 2) Multilingual (English-French) word embeddings"
   ]
  },
  {
   "cell_type": "markdown",
   "metadata": {},
   "source": [
    "Let's consider a bilingual dictionary of size V_a (e.g French-English).\n",
    "\n",
    "Let's define **X** and **Y** the **French** and **English** matrices.\n",
    "\n",
    "They contain the embeddings associated to the words in the bilingual dictionary.\n",
    "\n",
    "We want to find a **mapping W** that will project the source word space (e.g French) to the target word space (e.g English).\n",
    "\n",
    "Procrustes : **W\\* = argmin || W.X - Y ||  s.t  W^T.W = Id**\n",
    "has a closed form solution:\n",
    "**W = U.V^T  where  U.Sig.V^T = SVD(Y.X^T)**\n",
    "\n",
    "In what follows, you are asked to: "
   ]
  },
  {
   "cell_type": "code",
   "execution_count": 8,
   "metadata": {
    "ExecuteTime": {
     "end_time": "2019-01-08T14:13:27.580283Z",
     "start_time": "2019-01-08T14:13:18.885351Z"
    }
   },
   "outputs": [
    {
     "name": "stdout",
     "output_type": "stream",
     "text": [
      "Loaded 50000 pretrained word vectors\n",
      "Loaded 50000 pretrained word vectors\n"
     ]
    }
   ],
   "source": [
    "'''1 - Download and load 50k first vectors of\n",
    "https://s3-us-west-1.amazonaws.com/fasttext-vectors/wiki.en.vec\n",
    "https://s3-us-west-1.amazonaws.com/fasttext-vectors/wiki.fr.vec'''\n",
    "\n",
    "w2v_fr = Word2vec(os.path.join(PATH_TO_DATA, 'wiki.fr.vec'), nmax=50000).word2vec\n",
    "w2v_en = Word2vec(os.path.join(PATH_TO_DATA, 'wiki.en.vec'), nmax=50000).word2vec"
   ]
  },
  {
   "cell_type": "code",
   "execution_count": 9,
   "metadata": {
    "ExecuteTime": {
     "end_time": "2019-01-08T14:13:27.819874Z",
     "start_time": "2019-01-08T14:13:27.582855Z"
    }
   },
   "outputs": [],
   "source": [
    "'''2 - Get words that appear in both vocabs (= identical character strings)\n",
    "Use it to create the matrix X and Y (of aligned embeddings for these words)'''\n",
    "\n",
    "words_fr, words_en = set(w2v_fr), set(w2v_en)\n",
    "words_both = list(words_fr & words_en)\n",
    "X, Y = [], []\n",
    "for w in words_both:\n",
    "    X.append(w2v_fr.get(w))\n",
    "    Y.append(w2v_en.get(w))\n",
    "X, Y = np.stack(X).T, np.stack(Y).T"
   ]
  },
  {
   "cell_type": "code",
   "execution_count": 10,
   "metadata": {
    "ExecuteTime": {
     "end_time": "2019-01-08T14:13:28.347532Z",
     "start_time": "2019-01-08T14:13:27.823676Z"
    }
   },
   "outputs": [],
   "source": [
    "'''3 - Solve the Procrustes using the scipy package and: scipy.linalg.svd() and get the optimal W\n",
    "Now W*French_vector is in the same space as English_vector'''\n",
    "\n",
    "U, S, Vt = scipy.linalg.svd(np.dot(Y, X.T))\n",
    "W = np.dot(U, Vt)\n",
    "WX = np.dot(W, X).T\n",
    "WtY = np.dot(W.T, Y).T"
   ]
  },
  {
   "cell_type": "code",
   "execution_count": 11,
   "metadata": {
    "ExecuteTime": {
     "end_time": "2019-01-08T14:13:35.004365Z",
     "start_time": "2019-01-08T14:13:28.351321Z"
    },
    "scrolled": false
   },
   "outputs": [
    {
     "name": "stdout",
     "output_type": "stream",
     "text": [
      "\n",
      "English nearest neighbors of \"réserviste\":\n",
      "0.4872 - sergeant\n",
      "0.4562 - colonel\n",
      "0.4466 - commandos\n",
      "0.4407 - captain\n",
      "0.4393 - officer\n",
      "\n",
      "English nearest neighbors of \"maintenir\":\n",
      "0.4544 - conserve\n",
      "0.4288 - secure\n",
      "0.4151 - impose\n",
      "0.3924 - compromise\n",
      "0.3842 - assure\n",
      "\n",
      "English nearest neighbors of \"télésiège\":\n",
      "0.5486 - ski\n",
      "0.5202 - chalet\n",
      "0.4554 - skis\n",
      "0.4335 - snowboard\n",
      "0.4176 - alpine\n",
      "\n",
      "English nearest neighbors of \"exclut\":\n",
      "0.5171 - exclusion\n",
      "0.4848 - regard\n",
      "0.4358 - exceptions\n",
      "0.4355 - indirect\n",
      "0.4326 - justifications\n",
      "\n",
      "English nearest neighbors of \"copropriété\":\n",
      "0.4997 - property\n",
      "0.4662 - tenant\n",
      "0.4416 - estate\n",
      "0.4401 - tenants\n",
      "0.4226 - acquisition\n",
      "_____________________________________________________________\n",
      "\n",
      "French nearest neighbors of \"workforce\":\n",
      "0.5015 - entrepreneurs\n",
      "0.4942 - industrialisation\n",
      "0.4704 - industries\n",
      "0.4615 - professions\n",
      "0.4538 - management\n",
      "\n",
      "French nearest neighbors of \"subscriber\":\n",
      "0.6056 - adsl\n",
      "0.5793 - ethernet\n",
      "0.5617 - gsm\n",
      "0.5456 - wifi\n",
      "0.5194 - bluetooth\n",
      "\n",
      "French nearest neighbors of \"scorn\":\n",
      "0.5496 - indignation\n",
      "0.5471 - arrogance\n",
      "0.5261 - aversion\n",
      "0.5165 - injustice\n",
      "0.4977 - admiration\n",
      "\n",
      "French nearest neighbors of \"uncontrollable\":\n",
      "0.5639 - hallucinations\n",
      "0.5145 - brutal\n",
      "0.5013 - violent\n",
      "0.5000 - obsession\n",
      "0.4911 - instincts\n",
      "\n",
      "French nearest neighbors of \"friendships\":\n",
      "0.5238 - relations\n",
      "0.5204 - sentiments\n",
      "0.5189 - convictions\n",
      "0.5003 - affection\n",
      "0.4974 - admiration\n"
     ]
    }
   ],
   "source": [
    "'''4 - After alignment with W, give examples of English nearest neighbors of some French words (and vice versa)\n",
    "You will be evaluated on that part and the code above'''\n",
    "\n",
    "w2v_fr2, w2v_en2 = {}, {}\n",
    "for i, w in enumerate(words_both) :\n",
    "    w2v_fr2[w] = WX[i]\n",
    "    w2v_en2[w] = WtY[i]\n",
    "    \n",
    "def most_similar(word, w2v_sr, w2v_tg, K=5):\n",
    "    emb = w2v_sr.get(word)\n",
    "    scores = [np.dot(emb, w2v_tg.get(w2)) / np.linalg.norm(emb, 2) / \n",
    "                     np.linalg.norm(w2v_tg.get(w2), 2) for w2 in words_both]\n",
    "    id = np.argsort(scores)[-K::][::-1]\n",
    "    for i in id:\n",
    "        print('%.4f - %s' % (scores[i], words_both[i]))\n",
    "\n",
    "'''You will be evaluated on the output of the following:'''\n",
    "\n",
    "for w1 in ['réserviste', 'maintenir', 'télésiège', 'exclut', 'copropriété']:\n",
    "    print(\"\\nEnglish nearest neighbors of \\\"%s\\\":\" % w1)\n",
    "    most_similar(w1, w2v_fr, w2v_en2)\n",
    "print('_____________________________________________________________')\n",
    "for w1 in ['workforce', 'subscriber', 'scorn', 'uncontrollable', 'friendships']:\n",
    "    print(\"\\nFrench nearest neighbors of \\\"%s\\\":\" % w1)\n",
    "    most_similar(w1, w2v_en, w2v_fr2)"
   ]
  },
  {
   "cell_type": "markdown",
   "metadata": {},
   "source": [
    "If you want to dive deeper on this subject: https://github.com/facebookresearch/MUSE"
   ]
  },
  {
   "cell_type": "markdown",
   "metadata": {},
   "source": [
    "# 3) Sentence classification with BoV and scikit-learn"
   ]
  },
  {
   "cell_type": "code",
   "execution_count": 27,
   "metadata": {
    "ExecuteTime": {
     "end_time": "2019-01-08T14:16:37.462976Z",
     "start_time": "2019-01-08T14:16:37.434466Z"
    }
   },
   "outputs": [],
   "source": [
    "'''1 - Load train/dev/test of Stanford Sentiment TreeBank (SST)\n",
    "(https://nlp.stanford.edu/~socherr/EMNLP2013_RNTN.pdf)'''\n",
    "\n",
    "def load_SST_sentences(fname):\n",
    "    Y, sentences = [], []\n",
    "    with io.open(fname, encoding='utf-8') as f:\n",
    "        next(f)\n",
    "        for i, line in enumerate(f):\n",
    "            y, s = line.split(' ', 1)\n",
    "            Y.append(y)\n",
    "            sentences.append(s.strip())\n",
    "    return pd.DataFrame({'X':sentences, 'Y':Y})\n",
    "          \n",
    "train = load_SST_sentences(os.path.join(PATH_TO_DATA, 'SST/stsa.fine.train'))\n",
    "dev = load_SST_sentences(os.path.join(PATH_TO_DATA, 'SST/stsa.fine.dev'))\n",
    "test = load_SST_sentences(os.path.join(PATH_TO_DATA, 'SST/stsa.fine.test.X'))"
   ]
  },
  {
   "cell_type": "code",
   "execution_count": 28,
   "metadata": {
    "ExecuteTime": {
     "end_time": "2019-01-08T14:16:43.568455Z",
     "start_time": "2019-01-08T14:16:39.888442Z"
    }
   },
   "outputs": [],
   "source": [
    "'''2 - Encode sentences with the BoV model above'''\n",
    "\n",
    "w2v = Word2vec(os.path.join(PATH_TO_DATA, 'crawl-300d-200k.vec'), nmax=200000)\n",
    "s2v = BoV(w2v)\n",
    "\n",
    "def add_embeddings(df, idf):\n",
    "    X = df['X']\n",
    "    emb = pd.DataFrame(s2v.encode(X, idf), columns=['e'+str(i) for i in range(1, 301)])\n",
    "    df_ = pd.concat((df, emb), axis=1)\n",
    "    return df_, df_['Y'], df_.iloc[:,2:]\n",
    "\n",
    "# Weighted average with idf\n",
    "train_idf, y_train_idf, X_train_idf = add_embeddings(train, s2v.build_idf(train['X']))\n",
    "dev_idf, y_dev_idf, X_dev_idf = add_embeddings(dev, s2v.build_idf(dev['X']))\n",
    "test_idf, y_test_idf, X_test_idf = add_embeddings(test, s2v.build_idf(test['X']))\n",
    "# No weighted average\n",
    "train, y_train, X_train = add_embeddings(train, False)\n",
    "dev, y_dev, X_dev = add_embeddings(dev, False)\n",
    "test, y_test, X_test = add_embeddings(test, False)"
   ]
  },
  {
   "cell_type": "code",
   "execution_count": 14,
   "metadata": {
    "ExecuteTime": {
     "end_time": "2019-01-08T14:14:01.152597Z",
     "start_time": "2019-01-08T14:13:59.183724Z"
    }
   },
   "outputs": [
    {
     "data": {
      "application/vnd.jupyter.widget-view+json": {
       "model_id": "c673117028584bf7a9b84443a1dd754c",
       "version_major": 2,
       "version_minor": 0
      },
      "text/plain": [
       "HBox(children=(IntProgress(value=0, max=11), HTML(value='')))"
      ]
     },
     "metadata": {},
     "output_type": "display_data"
    },
    {
     "name": "stdout",
     "output_type": "stream",
     "text": [
      "\n"
     ]
    }
   ],
   "source": [
    "'''3 - Learn Logistic Regression on top of sentence embeddings using scikit-learn\n",
    "(consider tuning the L2 regularization on the dev set)'''\n",
    "\n",
    "from sklearn.linear_model import LogisticRegression\n",
    "\n",
    "#param_grid = sorted([x*y for x,y in itertools.product(range(1,10), [10**i for i in range(-2,3)])])\n",
    "param_grid = np.linspace(0.045, 0.055, 11)\n",
    "param_grid_idf = np.linspace(1, 3, 21)\n",
    "results, results_idf = {}, {}\n",
    "\n",
    "for c, ci in tqdm(zip(param_grid, param_grid_idf), total=11):\n",
    "    continue # to remove if needed\n",
    "    clf = LogisticRegression(max_iter=200, solver='lbfgs', multi_class='ovr',\n",
    "                             penalty='l2', C = c)\n",
    "    clfi = LogisticRegression(max_iter=200, solver='lbfgs', multi_class='ovr',\n",
    "                             penalty='l2', C = ci)\n",
    "    clf.fit(X_train, y_train)\n",
    "    clfi.fit(X_train_idf, y_train_idf)\n",
    "    results[c] = clf.score(X_dev, y_dev)\n",
    "    results_idf[ci] = clf.score(X_dev_idf, y_dev_idf)"
   ]
  },
  {
   "cell_type": "code",
   "execution_count": 47,
   "metadata": {
    "ExecuteTime": {
     "end_time": "2019-01-08T14:19:28.912268Z",
     "start_time": "2019-01-08T14:19:24.705050Z"
    }
   },
   "outputs": [
    {
     "name": "stdout",
     "output_type": "stream",
     "text": [
      "Accuracy on train set (idf-w): 0.494 \n",
      "Accuracy on dev set (idf-w): 0.432 \n",
      "Accuracy on train set (mean): 0.486 \n",
      "Accuracy on dev set (mean): 0.443 \n"
     ]
    }
   ],
   "source": [
    "'''4 - Produce 2210 predictions for the test set (in the same order). One line = one prediction (=0,1,2,3,4).\n",
    "Attach the output file \"logreg_bov_y_test_sst.txt\" to your deliverable.\n",
    "You will be evaluated on the results of the test set.'''\n",
    "\n",
    "# Best penalty coefficient is 2.6 (after gridsearching on dev test) with weighted average\n",
    "# Best penalty coefficient is 0.05 (after gridsearching on dev test) without weighted average\n",
    "clf_opt_idf = LogisticRegression(max_iter=200, solver='lbfgs', multi_class='ovr',\n",
    "                               penalty='l2', C = 2.6).fit(X_train_idf, y_train_idf)\n",
    "print(\"Accuracy on train set (idf-w): %0.3f \" % clf_opt_idf.score(X_train_idf, y_train_idf))\n",
    "print(\"Accuracy on dev set (idf-w): %0.3f \" % clf_opt_idf.score(X_dev_idf, y_dev_idf))\n",
    "clf_opt = LogisticRegression(max_iter=100, solver='lbfgs', multi_class='ovr',\n",
    "                               penalty='l2', C = 0.7).fit(X_train, y_train)\n",
    "print(\"Accuracy on train set (mean): %0.3f \" % clf_opt.score(X_train, y_train))\n",
    "print(\"Accuracy on dev set (mean): %0.3f \" % clf_opt.score(X_dev, y_dev))\n",
    "# Save predictions with idf-weighted average\n",
    "y_pred = clf_opt.predict(X_test).astype('float')\n",
    "np.savetxt(os.path.join(PATH_TO_DATA, 'logreg_bov_y_test_sst.txt'), y_pred, delimiter=',', fmt='%0.0f')"
   ]
  },
  {
   "cell_type": "code",
   "execution_count": 16,
   "metadata": {
    "ExecuteTime": {
     "end_time": "2019-01-08T14:14:04.982563Z",
     "start_time": "2019-01-08T14:14:04.162706Z"
    }
   },
   "outputs": [
    {
     "name": "stdout",
     "output_type": "stream",
     "text": [
      "Accuracy on train set (mean) 0.474\n",
      "Accuracy on dev set (mean) 0.444\n"
     ]
    }
   ],
   "source": [
    "'''BONUS!\n",
    "5 - Try to improve performance with another classifier\n",
    "Attach the output file \"XXX_bov_y_test_sst.txt\" to your deliverable (where XXX = the name of the classifier\n",
    "'''\n",
    "from sklearn import svm\n",
    "svm_idf = svm.LinearSVC(C=0.034) # optimal value \n",
    "svm_idf.fit(X_train, y_train)\n",
    "print(\"Accuracy on train set (mean) %.3f\" % svm_idf.score(X_train, y_train))\n",
    "print(\"Accuracy on dev set (mean) %.3f\" % svm_idf.score(X_dev, y_dev))\n",
    "y_pred_svm = svm_idf.predict(X_test).astype('float')\n",
    "np.savetxt(os.path.join(PATH_TO_DATA, 'svm_bov_y_test_sst.txt'), y_pred_svm, delimiter=',', fmt='%0.0f')"
   ]
  },
  {
   "cell_type": "markdown",
   "metadata": {},
   "source": [
    "# 4) Sentence classification with LSTMs in Keras"
   ]
  },
  {
   "cell_type": "markdown",
   "metadata": {},
   "source": [
    "## 4.1 - Preprocessing"
   ]
  },
  {
   "cell_type": "code",
   "execution_count": 7,
   "metadata": {
    "ExecuteTime": {
     "end_time": "2019-01-11T00:20:36.785743Z",
     "start_time": "2019-01-11T00:20:31.884396Z"
    }
   },
   "outputs": [
    {
     "name": "stderr",
     "output_type": "stream",
     "text": [
      "Using TensorFlow backend.\n"
     ]
    }
   ],
   "source": [
    "import keras"
   ]
  },
  {
   "cell_type": "code",
   "execution_count": 5,
   "metadata": {
    "ExecuteTime": {
     "end_time": "2019-01-11T00:20:21.990499Z",
     "start_time": "2019-01-11T00:20:21.806680Z"
    }
   },
   "outputs": [],
   "source": [
    "'''1 - Load train/dev/test sets of SST'''\n",
    "\n",
    "PATH_TO_DATA = \"/Users/bfiliot/MVA/DL/TP2/data/\"\n",
    "\n",
    "import re \n",
    "\n",
    "def cleanStr(string):\n",
    "    string=re.sub(r'^A-Za-z0-9(),!?\\'\\`',' ',string)\n",
    "    string=re.sub(r'\\s{2,}',' ',string)\n",
    "    string=string.replace('Ã¡','á').replace('Ã©','é').replace('Ã±','ñ').replace('Â','').replace('Ã¯','ï')\n",
    "    string=string.replace('Ã¼','ü').replace('Ã¢','â').replace('Ã¨','è').replace('Ã¶','ö').replace('Ã¦','æ')\n",
    "    string=string.replace('Ã³','ó').replace('Ã»','û').replace('Ã´','ô').replace('Ã£','ã').replace('Ã§','ç')\n",
    "    string=string.replace('Ã  ','à ').replace('Ã','í').replace('í','í')\n",
    "    string=string.replace('-lrb-','(').replace('-rrb-',')').replace('\\n','')\n",
    "    return string\n",
    "\n",
    "def load_SST_sentences(fname):\n",
    "    Y, sentences = [], []\n",
    "    with io.open(fname, encoding='utf-8') as f: \n",
    "        next(f)\n",
    "        for i, line in enumerate(f):\n",
    "            y, s = line.split(' ', 1)\n",
    "            Y.append(y)\n",
    "            s = cleanStr(s)\n",
    "            sentences.append(s)\n",
    "    return pd.DataFrame({'X':sentences, 'Y':Y})\n",
    "          \n",
    "train = load_SST_sentences(os.path.join(PATH_TO_DATA, 'SST/stsa.fine.train'))\n",
    "dev = load_SST_sentences(os.path.join(PATH_TO_DATA, 'SST/stsa.fine.dev'))\n",
    "test = load_SST_sentences(os.path.join(PATH_TO_DATA, 'SST/stsa.fine.test.X'))"
   ]
  },
  {
   "cell_type": "code",
   "execution_count": 8,
   "metadata": {
    "ExecuteTime": {
     "end_time": "2019-01-11T00:21:01.695828Z",
     "start_time": "2019-01-11T00:20:41.667244Z"
    }
   },
   "outputs": [
    {
     "name": "stdout",
     "output_type": "stream",
     "text": [
      "Vocab_size : 17794\n"
     ]
    }
   ],
   "source": [
    "'''2 - Transform text to integers using keras.preprocessing.text.one_hot function\n",
    "https://keras.io/preprocessing/text/'''\n",
    "\n",
    "df = pd.concat((train['X'], dev['X'], test['X']))\n",
    "vocab = set(df.apply(lambda x: keras.preprocessing.text.text_to_word_sequence(x)).sum())\n",
    "vocab_size = len(vocab)\n",
    "print('Vocab_size : {}'.format(vocab_size))\n",
    "train['X_enc'] = train['X'].apply(lambda x: keras.preprocessing.text.one_hot(x, n=vocab_size))\n",
    "dev['X_enc']   = dev['X'].apply(lambda x: keras.preprocessing.text.one_hot(x, n=vocab_size))\n",
    "test['X_enc']  = test['X'].apply(lambda x: keras.preprocessing.text.one_hot(x, n=vocab_size))"
   ]
  },
  {
   "cell_type": "markdown",
   "metadata": {},
   "source": [
    "**Padding input data**\n",
    "\n",
    "Models in Keras (and elsewhere) take batches of sentences of the same length as input. It is because Deep Learning framework have been designed to handle well Tensors, which are particularly suited for fast computation on the GPU.\n",
    "\n",
    "Since sentences have different sizes, we \"pad\" them. That is, we add dummy \"padding\" tokens so that they all have the same length.\n",
    "\n",
    "The input to a Keras model thus has this size : (batchsize, maxseqlen) where maxseqlen is the maximum length of a sentence in the batch."
   ]
  },
  {
   "cell_type": "code",
   "execution_count": 9,
   "metadata": {
    "ExecuteTime": {
     "end_time": "2019-01-11T00:21:01.875389Z",
     "start_time": "2019-01-11T00:21:01.699574Z"
    }
   },
   "outputs": [],
   "source": [
    "'''3 - Pad your sequences using keras.preprocessing.sequence.pad_sequences\n",
    "https://keras.io/preprocessing/sequence/'''\n",
    "\n",
    "maxlen = max(train['X_enc'].apply(len).max(),\n",
    "             test['X_enc'].apply(len).max(),\n",
    "             dev['X_enc'].apply(len).max())\n",
    "\n",
    "def add_paddings(df):\n",
    "    pad = pd.DataFrame(keras.preprocessing.sequence.pad_sequences(df['X_enc'],\n",
    "                                                                  maxlen=maxlen),\n",
    "                       columns=['v'+str(i) for i in range(1, 52)])\n",
    "    df_ = pd.concat((df, pad), axis=1)\n",
    "    return df_, df_['Y'], df_.iloc[:,3:]\n",
    "\n",
    "train, y_train, X_train = add_paddings(train)\n",
    "dev, y_dev, X_dev = add_paddings(dev)\n",
    "test, y_test, X_test = add_paddings(test)"
   ]
  },
  {
   "cell_type": "markdown",
   "metadata": {},
   "source": [
    "## 4.2 - Design and train your model"
   ]
  },
  {
   "cell_type": "code",
   "execution_count": 66,
   "metadata": {
    "ExecuteTime": {
     "end_time": "2019-01-11T15:51:09.784478Z",
     "start_time": "2019-01-11T15:51:09.371479Z"
    }
   },
   "outputs": [],
   "source": [
    "'''4 - Design your encoder + classifier using keras.layers\n",
    "     In Keras, Torch and other deep learning framework, we create a \"container\" which is the Sequential() module.\n",
    "     Then we add components to this contained : the lookuptable, the LSTM, the classifier etc.\n",
    "     All of these components are contained in the Sequential() and are trained together.\n",
    "\n",
    "'''\n",
    "\n",
    "from keras.models import Sequential\n",
    "from keras.layers import Input, Flatten, Dense, Reshape, Dropout, Embedding, LSTM, Bidirectional, Conv2D, MaxPooling2D\n",
    "\n",
    "embed_dim  = maxlen  # word embedding dimension\n",
    "nhid       = 128  # number of hidden units in the LSTM\n",
    "vocab_size = vocab_size  # size of the vocabulary\n",
    "n_classes  = 5\n",
    "\n",
    "model = Sequential()\n",
    "model.add(Embedding(vocab_size, embed_dim))\n",
    "model.add(LSTM(nhid, dropout=0.2, recurrent_dropout=0.2)) \n",
    "model.add(Dense(n_classes, activation='softmax'))"
   ]
  },
  {
   "cell_type": "code",
   "execution_count": 67,
   "metadata": {
    "ExecuteTime": {
     "end_time": "2019-01-11T15:51:10.364090Z",
     "start_time": "2019-01-11T15:51:10.304619Z"
    }
   },
   "outputs": [
    {
     "name": "stdout",
     "output_type": "stream",
     "text": [
      "_________________________________________________________________\n",
      "Layer (type)                 Output Shape              Param #   \n",
      "=================================================================\n",
      "embedding_25 (Embedding)     (None, None, 51)          907494    \n",
      "_________________________________________________________________\n",
      "lstm_25 (LSTM)               (None, 128)               92160     \n",
      "_________________________________________________________________\n",
      "dense_22 (Dense)             (None, 5)                 645       \n",
      "=================================================================\n",
      "Total params: 1,000,299\n",
      "Trainable params: 1,000,299\n",
      "Non-trainable params: 0\n",
      "_________________________________________________________________\n",
      "None\n"
     ]
    }
   ],
   "source": [
    "'''5 - Define your loss/optimizer/metrics'''\n",
    "\n",
    "# MODIFY CODE BELOW\n",
    "\n",
    "loss_classif     =  'sparse_categorical_crossentropy' # find the right loss for multi-class classification\n",
    "optimizer        =  'adam' # find the right optimizer\n",
    "metrics_classif  =  ['accuracy']\n",
    "\n",
    "# Observe how easy (but blackboxed) this is in Keras\n",
    "model.compile(loss=loss_classif,\n",
    "              optimizer=optimizer,\n",
    "              metrics=metrics_classif)\n",
    "print(model.summary())"
   ]
  },
  {
   "cell_type": "code",
   "execution_count": 68,
   "metadata": {
    "ExecuteTime": {
     "end_time": "2019-01-11T16:13:37.037475Z",
     "start_time": "2019-01-11T15:51:12.504469Z"
    }
   },
   "outputs": [
    {
     "name": "stdout",
     "output_type": "stream",
     "text": [
      "Train on 8543 samples, validate on 1100 samples\n",
      "Epoch 1/5\n",
      "8543/8543 [==============================] - 283s 33ms/step - loss: 1.5040 - acc: 0.3334 - val_loss: 1.4209 - val_acc: 0.3782\n",
      "\n",
      "Epoch 00001: val_acc improved from -inf to 0.37818, saving model to LSTM-01-0.3782.hdf5\n",
      "Epoch 2/5\n",
      "8543/8543 [==============================] - 259s 30ms/step - loss: 1.2071 - acc: 0.4857 - val_loss: 1.4134 - val_acc: 0.3900\n",
      "\n",
      "Epoch 00002: val_acc improved from 0.37818 to 0.39000, saving model to LSTM-02-0.3900.hdf5\n",
      "Epoch 3/5\n",
      "8543/8543 [==============================] - 271s 32ms/step - loss: 0.8869 - acc: 0.6502 - val_loss: 1.6099 - val_acc: 0.3555\n",
      "\n",
      "Epoch 00003: val_acc did not improve from 0.39000\n",
      "Epoch 4/5\n",
      "8543/8543 [==============================] - 264s 31ms/step - loss: 0.6208 - acc: 0.7686 - val_loss: 1.9792 - val_acc: 0.3564\n",
      "\n",
      "Epoch 00004: val_acc did not improve from 0.39000\n",
      "Epoch 5/5\n",
      "8543/8543 [==============================] - 259s 30ms/step - loss: 0.4491 - acc: 0.8314 - val_loss: 2.2118 - val_acc: 0.3527\n",
      "\n",
      "Epoch 00005: val_acc did not improve from 0.39000\n"
     ]
    },
    {
     "data": {
      "image/png": "[encoded data removed]",
      "text/plain": [
       "<Figure size 1080x360 with 2 Axes>"
      ]
     },
     "metadata": {
      "needs_background": "light"
     },
     "output_type": "display_data"
    }
   ],
   "source": [
    "'''6 - Train your model and find the best hyperparameters for your dev set\n",
    "you will be evaluated on the quality of your predictions on the test set'''\n",
    "\n",
    "# ADAPT CODE BELOW\n",
    "bs = 8\n",
    "n_epochs = 5\n",
    "filepath=\"LSTM-{epoch:02d}-{val_acc:.4f}.hdf5\"\n",
    "checkpoint = ModelCheckpoint(filepath, monitor='val_acc', verbose=1, save_best_only=True)\n",
    "callbacks_list = [checkpoint]\n",
    "\n",
    "history = model.fit(X_train, y_train, batch_size=bs, epochs=n_epochs,\n",
    "                    validation_data=(X_dev, y_dev), callbacks=callbacks_list)\n",
    "\n",
    "def plot_loss(h):\n",
    "    epoches = np.array(h.epoch)+1\n",
    "    plt.figure(figsize=(15,5)); plt.subplot(121);\n",
    "    plt.plot(epoches, h.history['loss'], marker='.', label='Train')\n",
    "    plt.plot(epoches, h.history['val_loss'], marker='.', label='Dev')\n",
    "    plt.title('Training and validation loss'); plt.xlabel('Epochs'); plt.ylabel('Loss'); plt.legend()\n",
    "    plt.subplot(122)\n",
    "    plt.plot(epoches, h.history['acc'], marker='.', label='Train')\n",
    "    plt.plot(epoches, h.history['val_acc'], marker='.', label='Dev')\n",
    "    plt.title('Training and validation accuracy'); plt.xlabel('Epochs'); plt.ylabel('Accuracy')\n",
    "    plt.legend(); plt.show()\n",
    "    \n",
    "plot_loss(history)"
   ]
  },
  {
   "cell_type": "code",
   "execution_count": 70,
   "metadata": {
    "ExecuteTime": {
     "end_time": "2019-01-11T16:16:15.799172Z",
     "start_time": "2019-01-11T16:15:20.210919Z"
    }
   },
   "outputs": [
    {
     "name": "stdout",
     "output_type": "stream",
     "text": [
      "Accuracy on train set 0.683\n",
      "Loss on train set 0.889\n",
      "Accuracy on dev set 0.390\n",
      "Loss on dev set 1.413\n"
     ]
    }
   ],
   "source": [
    "'''7 - Generate your predictions on the test set using model.predict(x_test)\n",
    "    https://keras.io/models/model/\n",
    "    Log your predictions in a file (one line = one integer: 0,1,2,3,4)\n",
    "    Attach the output file \"logreg_lstm_y_test_sst.txt\" to your deliverable.'''\n",
    "\n",
    "model = keras.models.load_model('LSTM-02-0.3900.hdf5')\n",
    "mt = model.evaluate(X_train, y_train, batch_size=bs, verbose=0)\n",
    "md = model.evaluate(X_dev, y_dev, batch_size=bs, verbose=0)\n",
    "print(\"Accuracy on train set %.3f\" % mt[1])\n",
    "print(\"Loss on train set %.3f\" % mt[0])\n",
    "print(\"Accuracy on dev set %.3f\" % md[1])\n",
    "print(\"Loss on dev set %.3f\" % md[0])\n",
    "y_pred_lstm = model.predict(X_test).astype('float')\n",
    "np.savetxt(os.path.join(PATH_TO_DATA, 'logreg_lstm_y_test_sst.txt'), np.argmax(y_pred_lstm, axis=1), delimiter=',', fmt='%0.0f')"
   ]
  },
  {
   "cell_type": "markdown",
   "metadata": {},
   "source": [
    "## 4.3 -- innovate !"
   ]
  },
  {
   "cell_type": "code",
   "execution_count": 40,
   "metadata": {
    "ExecuteTime": {
     "end_time": "2019-01-11T13:39:08.227022Z",
     "start_time": "2019-01-11T12:47:47.684590Z"
    }
   },
   "outputs": [
    {
     "name": "stdout",
     "output_type": "stream",
     "text": [
      "_________________________________________________________________\n",
      "Layer (type)                 Output Shape              Param #   \n",
      "=================================================================\n",
      "input_17 (InputLayer)        (None, 51)                0         \n",
      "_________________________________________________________________\n",
      "embedding_18 (Embedding)     (None, 51, 300)           5338200   \n",
      "_________________________________________________________________\n",
      "lstm_18 (LSTM)               (None, 51, 64)            93440     \n",
      "_________________________________________________________________\n",
      "reshape_16 (Reshape)         (None, 51, 64, 1)         0         \n",
      "_________________________________________________________________\n",
      "conv2d_15 (Conv2D)           (None, 49, 62, 32)        320       \n",
      "_________________________________________________________________\n",
      "max_pooling2d_14 (MaxPooling (None, 24, 31, 32)        0         \n",
      "_________________________________________________________________\n",
      "dropout_22 (Dropout)         (None, 24, 31, 32)        0         \n",
      "_________________________________________________________________\n",
      "flatten_14 (Flatten)         (None, 23808)             0         \n",
      "_________________________________________________________________\n",
      "dense_15 (Dense)             (None, 5)                 119045    \n",
      "=================================================================\n",
      "Total params: 5,551,005\n",
      "Trainable params: 212,805\n",
      "Non-trainable params: 5,338,200\n",
      "_________________________________________________________________\n",
      "None\n",
      "Train on 8543 samples, validate on 1100 samples\n",
      "Epoch 1/30\n",
      "8543/8543 [==============================] - 107s 12ms/step - loss: 1.5737 - acc: 0.2643 - val_loss: 1.5728 - val_acc: 0.2555\n",
      "\n",
      "Epoch 00001: saving model to BLSTM2DCNN-01-0.26.hdf5\n",
      "Epoch 2/30\n",
      "8543/8543 [==============================] - 99s 12ms/step - loss: 1.5657 - acc: 0.2762 - val_loss: 1.5682 - val_acc: 0.2627\n",
      "\n",
      "Epoch 00002: saving model to BLSTM2DCNN-02-0.26.hdf5\n",
      "Epoch 3/30\n",
      "8543/8543 [==============================] - 98s 11ms/step - loss: 1.5596 - acc: 0.2873 - val_loss: 1.5638 - val_acc: 0.2964\n",
      "\n",
      "Epoch 00003: saving model to BLSTM2DCNN-03-0.30.hdf5\n",
      "Epoch 4/30\n",
      "8543/8543 [==============================] - 100s 12ms/step - loss: 1.5512 - acc: 0.3013 - val_loss: 1.5575 - val_acc: 0.2791\n",
      "\n",
      "Epoch 00004: saving model to BLSTM2DCNN-04-0.28.hdf5\n",
      "Epoch 5/30\n",
      "8543/8543 [==============================] - 98s 11ms/step - loss: 1.5339 - acc: 0.3102 - val_loss: 1.5479 - val_acc: 0.2991\n",
      "\n",
      "Epoch 00005: saving model to BLSTM2DCNN-05-0.30.hdf5\n",
      "Epoch 6/30\n",
      "8543/8543 [==============================] - 98s 11ms/step - loss: 1.5220 - acc: 0.3168 - val_loss: 1.5366 - val_acc: 0.3109\n",
      "\n",
      "Epoch 00006: saving model to BLSTM2DCNN-06-0.31.hdf5\n",
      "Epoch 7/30\n",
      "8543/8543 [==============================] - 98s 11ms/step - loss: 1.5092 - acc: 0.3252 - val_loss: 1.5349 - val_acc: 0.3182\n",
      "\n",
      "Epoch 00007: saving model to BLSTM2DCNN-07-0.32.hdf5\n",
      "Epoch 8/30\n",
      "8543/8543 [==============================] - 99s 12ms/step - loss: 1.4959 - acc: 0.3308 - val_loss: 1.5290 - val_acc: 0.3255\n",
      "\n",
      "Epoch 00008: saving model to BLSTM2DCNN-08-0.33.hdf5\n",
      "Epoch 9/30\n",
      "8543/8543 [==============================] - 100s 12ms/step - loss: 1.4805 - acc: 0.3453 - val_loss: 1.5264 - val_acc: 0.3209\n",
      "\n",
      "Epoch 00009: saving model to BLSTM2DCNN-09-0.32.hdf5\n",
      "Epoch 10/30\n",
      "8543/8543 [==============================] - 98s 11ms/step - loss: 1.4680 - acc: 0.3513 - val_loss: 1.5252 - val_acc: 0.3200\n",
      "\n",
      "Epoch 00010: saving model to BLSTM2DCNN-10-0.32.hdf5\n",
      "Epoch 11/30\n",
      "8543/8543 [==============================] - 98s 11ms/step - loss: 1.4579 - acc: 0.3624 - val_loss: 1.5220 - val_acc: 0.3145\n",
      "\n",
      "Epoch 00011: saving model to BLSTM2DCNN-11-0.31.hdf5\n",
      "Epoch 12/30\n",
      "8543/8543 [==============================] - 98s 11ms/step - loss: 1.4399 - acc: 0.3756 - val_loss: 1.5214 - val_acc: 0.3255\n",
      "\n",
      "Epoch 00012: saving model to BLSTM2DCNN-12-0.33.hdf5\n",
      "Epoch 13/30\n",
      "8543/8543 [==============================] - 99s 12ms/step - loss: 1.4277 - acc: 0.3814 - val_loss: 1.5304 - val_acc: 0.3118\n",
      "\n",
      "Epoch 00013: saving model to BLSTM2DCNN-13-0.31.hdf5\n",
      "Epoch 14/30\n",
      "8543/8543 [==============================] - 99s 12ms/step - loss: 1.4152 - acc: 0.3926 - val_loss: 1.5237 - val_acc: 0.3264\n",
      "\n",
      "Epoch 00014: saving model to BLSTM2DCNN-14-0.33.hdf5\n",
      "Epoch 15/30\n",
      "8543/8543 [==============================] - 98s 11ms/step - loss: 1.3996 - acc: 0.4056 - val_loss: 1.5233 - val_acc: 0.3227\n",
      "\n",
      "Epoch 00015: saving model to BLSTM2DCNN-15-0.32.hdf5\n",
      "Epoch 16/30\n",
      "8543/8543 [==============================] - 98s 11ms/step - loss: 1.3868 - acc: 0.4105 - val_loss: 1.5323 - val_acc: 0.3218\n",
      "\n",
      "Epoch 00016: saving model to BLSTM2DCNN-16-0.32.hdf5\n",
      "Epoch 17/30\n",
      "8543/8543 [==============================] - 103s 12ms/step - loss: 1.3657 - acc: 0.4260 - val_loss: 1.5443 - val_acc: 0.3273\n",
      "\n",
      "Epoch 00017: saving model to BLSTM2DCNN-17-0.33.hdf5\n",
      "Epoch 18/30\n",
      "8543/8543 [==============================] - 104s 12ms/step - loss: 1.3531 - acc: 0.4297 - val_loss: 1.5424 - val_acc: 0.3127\n",
      "\n",
      "Epoch 00018: saving model to BLSTM2DCNN-18-0.31.hdf5\n",
      "Epoch 19/30\n",
      "8543/8543 [==============================] - 115s 13ms/step - loss: 1.3361 - acc: 0.4367 - val_loss: 1.5520 - val_acc: 0.3136\n",
      "\n",
      "Epoch 00019: saving model to BLSTM2DCNN-19-0.31.hdf5\n",
      "Epoch 20/30\n",
      "8543/8543 [==============================] - 102s 12ms/step - loss: 1.3193 - acc: 0.4419 - val_loss: 1.5533 - val_acc: 0.3009\n",
      "\n",
      "Epoch 00020: saving model to BLSTM2DCNN-20-0.30.hdf5\n",
      "Epoch 21/30\n",
      "8543/8543 [==============================] - 97s 11ms/step - loss: 1.3012 - acc: 0.4638 - val_loss: 1.5597 - val_acc: 0.3073\n",
      "\n",
      "Epoch 00021: saving model to BLSTM2DCNN-21-0.31.hdf5\n",
      "Epoch 22/30\n",
      "8543/8543 [==============================] - 108s 13ms/step - loss: 1.2828 - acc: 0.4670 - val_loss: 1.5613 - val_acc: 0.3073\n",
      "\n",
      "Epoch 00022: saving model to BLSTM2DCNN-22-0.31.hdf5\n",
      "Epoch 23/30\n",
      "8543/8543 [==============================] - 112s 13ms/step - loss: 1.2663 - acc: 0.4766 - val_loss: 1.5638 - val_acc: 0.3209\n",
      "\n",
      "Epoch 00023: saving model to BLSTM2DCNN-23-0.32.hdf5\n",
      "Epoch 24/30\n",
      "8543/8543 [==============================] - 99s 12ms/step - loss: 1.2514 - acc: 0.4797 - val_loss: 1.5698 - val_acc: 0.3173\n",
      "\n",
      "Epoch 00024: saving model to BLSTM2DCNN-24-0.32.hdf5\n",
      "Epoch 25/30\n",
      "8543/8543 [==============================] - 104s 12ms/step - loss: 1.2347 - acc: 0.4900 - val_loss: 1.5745 - val_acc: 0.3218\n",
      "\n",
      "Epoch 00025: saving model to BLSTM2DCNN-25-0.32.hdf5\n",
      "Epoch 26/30\n",
      "8543/8543 [==============================] - 101s 12ms/step - loss: 1.2160 - acc: 0.5006 - val_loss: 1.5887 - val_acc: 0.3227\n",
      "\n",
      "Epoch 00026: saving model to BLSTM2DCNN-26-0.32.hdf5\n",
      "Epoch 27/30\n",
      "8543/8543 [==============================] - 102s 12ms/step - loss: 1.1995 - acc: 0.5115 - val_loss: 1.5910 - val_acc: 0.3173\n",
      "\n",
      "Epoch 00027: saving model to BLSTM2DCNN-27-0.32.hdf5\n",
      "Epoch 28/30\n",
      "8543/8543 [==============================] - 111s 13ms/step - loss: 1.1853 - acc: 0.5205 - val_loss: 1.5972 - val_acc: 0.3200\n",
      "\n",
      "Epoch 00028: saving model to BLSTM2DCNN-28-0.32.hdf5\n",
      "Epoch 29/30\n",
      "8543/8543 [==============================] - 114s 13ms/step - loss: 1.1682 - acc: 0.5183 - val_loss: 1.6237 - val_acc: 0.3136\n",
      "\n",
      "Epoch 00029: saving model to BLSTM2DCNN-29-0.31.hdf5\n",
      "Epoch 30/30\n",
      "8543/8543 [==============================] - 106s 12ms/step - loss: 1.1534 - acc: 0.5327 - val_loss: 1.6160 - val_acc: 0.3209\n",
      "\n",
      "Epoch 00030: saving model to BLSTM2DCNN-30-0.32.hdf5\n"
     ]
    },
    {
     "data": {
      "image/png": "[encoded data removed]",
      "text/plain": [
       "<Figure size 1080x360 with 2 Axes>"
      ]
     },
     "metadata": {
      "needs_background": "light"
     },
     "output_type": "display_data"
    }
   ],
   "source": [
    "'''8 - Open question: find a model that is better on your dev set\n",
    "    (e.g: use a 1D ConvNet, use a better classifier, pretrain your lookup tables ..)\n",
    "    you will get point if the results on the test set are better: be careful of not overfitting your dev set too much..\n",
    "    Attach the output file \"XXX_XXX_y_test_sst.txt\" to your deliverable.'''\n",
    "from keras.callbacks import ModelCheckpoint\n",
    "from keras.models import Model\n",
    "\n",
    "#Set parameters\n",
    "embed_dim        = maxlen  \n",
    "nhid             = 64\n",
    "conv_filters     = 32\n",
    "n_classes        = 5\n",
    "bs               = 32\n",
    "n_epochs         = 30\n",
    "loss_classif     = 'sparse_categorical_crossentropy'\n",
    "optimizer        = keras.optimizers.Adam(lr=10e-5, beta_1=0.9, beta_2=0.999, epsilon=None, decay=0.0, amsgrad=False)\n",
    "metrics_classif  = ['accuracy']\n",
    "\n",
    "\n",
    "# Load 2 million words from fastText or 400k words from glove\n",
    "def choose_word2vec(t):\n",
    "    if t==\"fasttext\":\n",
    "        w = Word2vec(os.path.join(PATH_TO_DATA, 'wiki.en.vec'), nmax=2000000).word2vec\n",
    "    elif t==\"glove\":\n",
    "        w = {}\n",
    "        with io.open(os.path.join(PATH_TO_DATA, 'glove.6B.300d.txt'), encoding='utf-8') as f:\n",
    "            next(f)\n",
    "            for i, line in tqdm(enumerate(f), total=400000):\n",
    "                word, vec = line.split(' ', 1)\n",
    "                w[word] = np.fromstring(vec, sep=' ')\n",
    "    return w\n",
    "\n",
    "# create a weight matrix for words in training sentences\n",
    "glove = choose_word2vec('glove')\n",
    "embedding_matrix = np.random.uniform(-0.1, 0.1, size=(vocab_size, 300))\n",
    "for i, word in enumerate(vocab):\n",
    "    embedding_vector = glove.get(word)#w2v_en.get(word)\n",
    "    if embedding_vector is not None:\n",
    "        embedding_matrix[i] = embedding_vector\n",
    "        \n",
    "# put trainable=True in embedding layer to get better results\n",
    "# or False in order to save computational time. I chose False\n",
    "embedding_layer = Embedding(vocab_size, 300, input_length=embed_dim,\n",
    "                            weights=[embedding_matrix],\n",
    "                            trainable=False)\n",
    "sequence_input = Input(shape=(embed_dim,), dtype='int32')\n",
    "embedded_sequences = embedding_layer(sequence_input)\n",
    "\n",
    "# implementation of BLSTM2DCNN : Peng et al. (2016),\n",
    "# \"Text Classification Improved by Integrating Bidirectional LSTM \n",
    "# with Two-dimensional Max Pooling\"\n",
    "x = Bidirectional(LSTM(nhid, dropout=0.2, recurrent_dropout=0.2, return_sequences=True))(embedded_sequences)\n",
    "x = Reshape((2*embed_dim, nhid, 1))(x)\n",
    "x = Conv2D(conv_filters, (3, 3))(x)\n",
    "x = MaxPooling2D(pool_size=(2, 2))(x)\n",
    "x = Dropout(0.2)(x)\n",
    "x = Flatten()(x)\n",
    "preds = Dense(n_classes, activation='softmax')(x)\n",
    "model = Model(sequence_input, preds)\n",
    "model.compile(loss=loss_classif, optimizer=optimizer, metrics=metrics_classif)\n",
    "filepath=\"BLSTM2DCNN-{epoch:02d}-{val_acc:.2f}.hdf5\"\n",
    "checkpoint = ModelCheckpoint(filepath, monitor='val_acc', verbose=1, save_best_only=False)\n",
    "callbacks_list = [checkpoint]\n",
    "print(model.summary())\n",
    "history = model.fit(X_train, y_train, batch_size=bs, epochs=n_epochs, callbacks=callbacks_list, validation_data=(X_dev, y_dev))\n",
    "\n",
    "#Plot loss w.r.t to the number of epochs\n",
    "plot_loss(history)\n",
    "\n",
    "# Save predictions\n",
    "model = keras.models.load_model('BLSTM2DCNN-17-0.33.hdf5')\n",
    "mt = model.evaluate(X_train, y_train, batch_size=bs, verbose=0)\n",
    "md = model.evaluate(X_dev, y_dev, batch_size=bs, verbose=0)\n",
    "y_pred_blstm = model.predict(X_test).astype('float')\n",
    "np.savetxt(os.path.join(PATH_TO_DATA, 'blstm2dcnn_y_test_sst.txt'), np.argmax(y_pred_blstm, axis=1), delimiter=',', fmt='%0.0f')"
   ]
  }
 ],
 "metadata": {
  "hide_input": false,
  "kernelspec": {
   "display_name": "Python 3",
   "language": "python",
   "name": "python3"
  },
  "language_info": {
   "codemirror_mode": {
    "name": "ipython",
    "version": 3
   },
   "file_extension": ".py",
   "mimetype": "text/x-python",
   "name": "python",
   "nbconvert_exporter": "python",
   "pygments_lexer": "ipython3",
   "version": "3.6.6"
  },
  "latex_envs": {
   "LaTeX_envs_menu_present": true,
   "autoclose": false,
   "autocomplete": true,
   "bibliofile": "biblio.bib",
   "cite_by": "apalike",
   "current_citInitial": 1,
   "eqLabelWithNumbers": true,
   "eqNumInitial": 1,
   "hotkeys": {
    "equation": "Ctrl-E",
    "itemize": "Ctrl-I"
   },
   "labels_anchors": false,
   "latex_user_defs": false,
   "report_style_numbering": false,
   "user_envs_cfg": false
  },
  "toc": {
   "base_numbering": 1,
   "nav_menu": {},
   "number_sections": true,
   "sideBar": true,
   "skip_h1_title": false,
   "title_cell": "Table of Contents",
   "title_sidebar": "Contents",
   "toc_cell": false,
   "toc_position": {},
   "toc_section_display": true,
   "toc_window_display": true
  }
 },
 "nbformat": 4,
 "nbformat_minor": 1
}
